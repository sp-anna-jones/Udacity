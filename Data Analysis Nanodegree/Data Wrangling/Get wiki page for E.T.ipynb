{
 "cells": [
  {
   "cell_type": "code",
   "execution_count": 1,
   "metadata": {},
   "outputs": [],
   "source": [
    "import wptools"
   ]
  },
  {
   "cell_type": "code",
   "execution_count": null,
   "metadata": {},
   "outputs": [
    {
     "name": "stderr",
     "output_type": "stream",
     "text": [
      "en.wikipedia.org (query) E.T._the_Extra-Terrestrial\n",
      "API warning: {'extracts': {'warnings': 'HTML may be malformed and/or unbalanced and may omit inline images. Use at your own risk. Known problems are listed at https://www.mediawiki.org/wiki/Extension:TextExtracts#Caveats.'}}\n",
      "en.wikipedia.org (parse) 73441\n",
      "www.wikidata.org (wikidata) Q11621\n",
      "www.wikidata.org (labels) P3808|P2363|Q3897561|P1970|Q952914|P427...\n",
      "www.wikidata.org (labels) P135|Q720068|Q488651|P3933|Q849124|P509...\n",
      "www.wikidata.org (labels) P272|P3141|Q918617|P2518|P3804|P6145|P2...\n",
      "www.wikidata.org (labels) Q7341915|P2603|P31|P5357|P3650|P58|Q136...\n"
     ]
    }
   ],
   "source": [
    "# Your code here: get the E.T. page object\n",
    "# This cell make take a few seconds to run\n",
    "page = wptools.page('E.T._the_Extra-Terrestrial').get()"
   ]
  },
  {
   "cell_type": "code",
   "execution_count": null,
   "metadata": {},
   "outputs": [],
   "source": [
    "# Accessing the image attribute will return the images for this page\n",
    "page.data['image']"
   ]
  },
  {
   "cell_type": "code",
   "execution_count": null,
   "metadata": {},
   "outputs": [],
   "source": []
  }
 ],
 "metadata": {
  "kernelspec": {
   "display_name": "Python 3",
   "language": "python",
   "name": "python3"
  },
  "language_info": {
   "codemirror_mode": {
    "name": "ipython",
    "version": 3
   },
   "file_extension": ".py",
   "mimetype": "text/x-python",
   "name": "python",
   "nbconvert_exporter": "python",
   "pygments_lexer": "ipython3",
   "version": "3.6.3"
  }
 },
 "nbformat": 4,
 "nbformat_minor": 2
}
